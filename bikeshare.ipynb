{
 "cells": [
  {
   "cell_type": "code",
   "execution_count": 1,
   "id": "ef1d3b21",
   "metadata": {},
   "outputs": [],
   "source": [
    "import pandas as pd"
   ]
  },
  {
   "cell_type": "code",
   "execution_count": 4,
   "id": "74828e83",
   "metadata": {},
   "outputs": [],
   "source": [
    "chi = pd.read_csv('chicago.csv')\n",
    "ny = pd.read_csv('new_york_city.csv')\n",
    "wash = pd.read_csv('washington.csv')"
   ]
  },
  {
   "cell_type": "code",
   "execution_count": 6,
   "id": "513e1480",
   "metadata": {},
   "outputs": [
    {
     "data": {
      "text/html": [
       "<div>\n",
       "<style scoped>\n",
       "    .dataframe tbody tr th:only-of-type {\n",
       "        vertical-align: middle;\n",
       "    }\n",
       "\n",
       "    .dataframe tbody tr th {\n",
       "        vertical-align: top;\n",
       "    }\n",
       "\n",
       "    .dataframe thead th {\n",
       "        text-align: right;\n",
       "    }\n",
       "</style>\n",
       "<table border=\"1\" class=\"dataframe\">\n",
       "  <thead>\n",
       "    <tr style=\"text-align: right;\">\n",
       "      <th></th>\n",
       "      <th>Unnamed: 0</th>\n",
       "      <th>Start Time</th>\n",
       "      <th>End Time</th>\n",
       "      <th>Trip Duration</th>\n",
       "      <th>Start Station</th>\n",
       "      <th>End Station</th>\n",
       "      <th>User Type</th>\n",
       "      <th>Gender</th>\n",
       "      <th>Birth Year</th>\n",
       "    </tr>\n",
       "  </thead>\n",
       "  <tbody>\n",
       "    <tr>\n",
       "      <th>0</th>\n",
       "      <td>1423854</td>\n",
       "      <td>2017-06-23 15:09:32</td>\n",
       "      <td>2017-06-23 15:14:53</td>\n",
       "      <td>321</td>\n",
       "      <td>Wood St &amp; Hubbard St</td>\n",
       "      <td>Damen Ave &amp; Chicago Ave</td>\n",
       "      <td>Subscriber</td>\n",
       "      <td>Male</td>\n",
       "      <td>1992.0</td>\n",
       "    </tr>\n",
       "    <tr>\n",
       "      <th>1</th>\n",
       "      <td>955915</td>\n",
       "      <td>2017-05-25 18:19:03</td>\n",
       "      <td>2017-05-25 18:45:53</td>\n",
       "      <td>1610</td>\n",
       "      <td>Theater on the Lake</td>\n",
       "      <td>Sheffield Ave &amp; Waveland Ave</td>\n",
       "      <td>Subscriber</td>\n",
       "      <td>Female</td>\n",
       "      <td>1992.0</td>\n",
       "    </tr>\n",
       "  </tbody>\n",
       "</table>\n",
       "</div>"
      ],
      "text/plain": [
       "   Unnamed: 0           Start Time             End Time  Trip Duration  \\\n",
       "0     1423854  2017-06-23 15:09:32  2017-06-23 15:14:53            321   \n",
       "1      955915  2017-05-25 18:19:03  2017-05-25 18:45:53           1610   \n",
       "\n",
       "          Start Station                   End Station   User Type  Gender  \\\n",
       "0  Wood St & Hubbard St       Damen Ave & Chicago Ave  Subscriber    Male   \n",
       "1   Theater on the Lake  Sheffield Ave & Waveland Ave  Subscriber  Female   \n",
       "\n",
       "   Birth Year  \n",
       "0      1992.0  \n",
       "1      1992.0  "
      ]
     },
     "execution_count": 6,
     "metadata": {},
     "output_type": "execute_result"
    }
   ],
   "source": [
    "chi.head(2)"
   ]
  },
  {
   "cell_type": "code",
   "execution_count": 17,
   "id": "e673f4eb",
   "metadata": {},
   "outputs": [
    {
     "data": {
      "text/plain": [
       "Start Station\n",
       "2112 W Peterson Ave              35\n",
       "63rd St Beach                    93\n",
       "900 W Harrison St               467\n",
       "Aberdeen St & Jackson Blvd      722\n",
       "Aberdeen St & Monroe St         850\n",
       "                               ... \n",
       "Wood St & Milwaukee Ave         962\n",
       "Wood St & Taylor St             540\n",
       "Woodlawn Ave & 55th St          242\n",
       "Woodlawn Ave & Lake Park Ave    104\n",
       "Yates Blvd & 75th St              4\n",
       "Length: 568, dtype: int64"
      ]
     },
     "execution_count": 17,
     "metadata": {},
     "output_type": "execute_result"
    }
   ],
   "source": [
    "#popular_start_station = chi['Start Station'].mode()[0]\n",
    "#print(f\"\\tMost popular start station: {popular_start_station}\")\n",
    "chi.groupby(['Start Station']).size()"
   ]
  },
  {
   "cell_type": "code",
   "execution_count": 22,
   "id": "954d64bc",
   "metadata": {},
   "outputs": [],
   "source": [
    "# Displays most commonly used end station.\n",
    "#popular_end_station = df['End Station'].mode()[0]\n",
    "#print(f\"\\tMost popular end station: {popular_end_station}\")\n",
    "\n",
    "# Displays most frequent combination of start station and end station trip.    \n",
    "popular_trip = chi.groupby(['Start Station','End Station']).size().idxmax()\n",
    "print(f\"\\tMost frequent combination of start station and end station trip: {popular_trip}\")"
   ]
  },
  {
   "cell_type": "code",
   "execution_count": 26,
   "id": "094cff95",
   "metadata": {},
   "outputs": [],
   "source": [
    "df = chi.groupby(['Start Station']).size()"
   ]
  },
  {
   "cell_type": "code",
   "execution_count": 33,
   "id": "564dfcbd",
   "metadata": {},
   "outputs": [
    {
     "data": {
      "text/plain": [
       "Start Station\n",
       "Adler Planetarium            1737\n",
       "Ashland Ave & Division St    1222\n",
       "Bissell St & Armitage Ave    1027\n",
       "Broadway & Barry Ave         1212\n",
       "Buckingham Fountain          1115\n",
       "                             ... \n",
       "Wabash Ave & Wacker Pl       1131\n",
       "Wacker Dr & Washington St    1510\n",
       "Wells St & Concord Ln        1776\n",
       "Wells St & Huron St          1336\n",
       "Wilton Ave & Belmont Ave     1422\n",
       "Length: 87, dtype: int64"
      ]
     },
     "execution_count": 33,
     "metadata": {},
     "output_type": "execute_result"
    }
   ],
   "source": [
    "df[df>1000]"
   ]
  },
  {
   "cell_type": "code",
   "execution_count": null,
   "id": "6c61675a",
   "metadata": {},
   "outputs": [],
   "source": []
  }
 ],
 "metadata": {
  "kernelspec": {
   "display_name": "Python 3 (ipykernel)",
   "language": "python",
   "name": "python3"
  },
  "language_info": {
   "codemirror_mode": {
    "name": "ipython",
    "version": 3
   },
   "file_extension": ".py",
   "mimetype": "text/x-python",
   "name": "python",
   "nbconvert_exporter": "python",
   "pygments_lexer": "ipython3",
   "version": "3.9.13"
  }
 },
 "nbformat": 4,
 "nbformat_minor": 5
}
